{
 "cells": [
  {
   "cell_type": "code",
   "execution_count": 1,
   "metadata": {},
   "outputs": [],
   "source": [
    "import gc\n",
    "import datetime\n",
    "import numpy as np\n",
    "import pandas as pd\n",
    "import seaborn as sns\n",
    "import lightgbm as lgb\n",
    "import matplotlib.pyplot as plt"
   ]
  },
  {
   "cell_type": "code",
   "execution_count": 2,
   "metadata": {},
   "outputs": [
    {
     "name": "stderr",
     "output_type": "stream",
     "text": [
      "c:\\users\\ignacio\\appdata\\local\\programs\\python\\python37\\lib\\site-packages\\IPython\\core\\interactiveshell.py:3020: DtypeWarning: Columns (12,18,19) have mixed types. Specify dtype option on import or set low_memory=False.\n",
      "  interactivity=interactivity, compiler=compiler, result=result)\n"
     ]
    }
   ],
   "source": [
    "auctions = pd.read_csv('auctions.csv')\n",
    "clicks = pd.read_csv('clicks.csv')\n",
    "installs = pd.read_csv('installs.csv')\n",
    "events = pd.read_csv('events.csv')"
   ]
  },
  {
   "cell_type": "code",
   "execution_count": 3,
   "metadata": {},
   "outputs": [
    {
     "name": "stdout",
     "output_type": "stream",
     "text": [
      "<class 'pandas.core.frame.DataFrame'>\n",
      "RangeIndex: 19571319 entries, 0 to 19571318\n",
      "Data columns (total 7 columns):\n",
      "auction_type_id    float64\n",
      "country            int64\n",
      "date               object\n",
      "device_id          int64\n",
      "platform           int64\n",
      "ref_type_id        int64\n",
      "source_id          int64\n",
      "dtypes: float64(1), int64(5), object(1)\n",
      "memory usage: 1.0+ GB\n"
     ]
    }
   ],
   "source": [
    "auctions.info()"
   ]
  },
  {
   "cell_type": "code",
   "execution_count": 4,
   "metadata": {},
   "outputs": [
    {
     "data": {
      "text/html": [
       "<div>\n",
       "<style scoped>\n",
       "    .dataframe tbody tr th:only-of-type {\n",
       "        vertical-align: middle;\n",
       "    }\n",
       "\n",
       "    .dataframe tbody tr th {\n",
       "        vertical-align: top;\n",
       "    }\n",
       "\n",
       "    .dataframe thead th {\n",
       "        text-align: right;\n",
       "    }\n",
       "</style>\n",
       "<table border=\"1\" class=\"dataframe\">\n",
       "  <thead>\n",
       "    <tr style=\"text-align: right;\">\n",
       "      <th></th>\n",
       "      <th>auction_type_id</th>\n",
       "      <th>country</th>\n",
       "      <th>date</th>\n",
       "      <th>device_id</th>\n",
       "      <th>platform</th>\n",
       "      <th>ref_type_id</th>\n",
       "      <th>source_id</th>\n",
       "    </tr>\n",
       "  </thead>\n",
       "  <tbody>\n",
       "    <tr>\n",
       "      <th>0</th>\n",
       "      <td>NaN</td>\n",
       "      <td>6333597102633388268</td>\n",
       "      <td>2019-03-11 14:18:33.290763</td>\n",
       "      <td>6059599345986491085</td>\n",
       "      <td>1</td>\n",
       "      <td>1</td>\n",
       "      <td>0</td>\n",
       "    </tr>\n",
       "    <tr>\n",
       "      <th>1</th>\n",
       "      <td>NaN</td>\n",
       "      <td>6333597102633388268</td>\n",
       "      <td>2019-03-11 14:18:34.440157</td>\n",
       "      <td>1115994996230693426</td>\n",
       "      <td>1</td>\n",
       "      <td>1</td>\n",
       "      <td>0</td>\n",
       "    </tr>\n",
       "    <tr>\n",
       "      <th>2</th>\n",
       "      <td>NaN</td>\n",
       "      <td>6333597102633388268</td>\n",
       "      <td>2019-03-11 14:18:35.862360</td>\n",
       "      <td>7463856250762200923</td>\n",
       "      <td>1</td>\n",
       "      <td>1</td>\n",
       "      <td>0</td>\n",
       "    </tr>\n",
       "    <tr>\n",
       "      <th>3</th>\n",
       "      <td>NaN</td>\n",
       "      <td>6333597102633388268</td>\n",
       "      <td>2019-03-11 14:18:36.167163</td>\n",
       "      <td>7829815350267792040</td>\n",
       "      <td>1</td>\n",
       "      <td>1</td>\n",
       "      <td>0</td>\n",
       "    </tr>\n",
       "    <tr>\n",
       "      <th>4</th>\n",
       "      <td>NaN</td>\n",
       "      <td>6333597102633388268</td>\n",
       "      <td>2019-03-11 14:18:37.728590</td>\n",
       "      <td>1448534231953777480</td>\n",
       "      <td>1</td>\n",
       "      <td>1</td>\n",
       "      <td>0</td>\n",
       "    </tr>\n",
       "  </tbody>\n",
       "</table>\n",
       "</div>"
      ],
      "text/plain": [
       "   auction_type_id              country                        date  \\\n",
       "0              NaN  6333597102633388268  2019-03-11 14:18:33.290763   \n",
       "1              NaN  6333597102633388268  2019-03-11 14:18:34.440157   \n",
       "2              NaN  6333597102633388268  2019-03-11 14:18:35.862360   \n",
       "3              NaN  6333597102633388268  2019-03-11 14:18:36.167163   \n",
       "4              NaN  6333597102633388268  2019-03-11 14:18:37.728590   \n",
       "\n",
       "             device_id  platform  ref_type_id  source_id  \n",
       "0  6059599345986491085         1            1          0  \n",
       "1  1115994996230693426         1            1          0  \n",
       "2  7463856250762200923         1            1          0  \n",
       "3  7829815350267792040         1            1          0  \n",
       "4  1448534231953777480         1            1          0  "
      ]
     },
     "execution_count": 4,
     "metadata": {},
     "output_type": "execute_result"
    }
   ],
   "source": [
    "auctions.head()"
   ]
  },
  {
   "cell_type": "code",
   "execution_count": 5,
   "metadata": {},
   "outputs": [
    {
     "data": {
      "text/plain": [
       "auction_type_id    19571319\n",
       "country                   0\n",
       "date                      0\n",
       "device_id                 0\n",
       "platform                  0\n",
       "ref_type_id               0\n",
       "source_id                 0\n",
       "dtype: int64"
      ]
     },
     "execution_count": 5,
     "metadata": {},
     "output_type": "execute_result"
    }
   ],
   "source": [
    "auctions.isnull().sum()"
   ]
  },
  {
   "cell_type": "code",
   "execution_count": 6,
   "metadata": {},
   "outputs": [],
   "source": [
    "#dropeo auction_type_id ya que todos sus valores son nulos y country porque todos tienen el mismo valor\n",
    "auctions.drop(['auction_type_id', 'country'], axis=1, inplace=True)"
   ]
  },
  {
   "cell_type": "code",
   "execution_count": 7,
   "metadata": {},
   "outputs": [],
   "source": [
    "auctions['date'] = pd.to_datetime(auctions['date'])"
   ]
  },
  {
   "cell_type": "code",
   "execution_count": 8,
   "metadata": {},
   "outputs": [
    {
     "name": "stdout",
     "output_type": "stream",
     "text": [
      "Rango fechas: \n",
      "2019-03-05 00:52:33.352526\n",
      "2019-03-13 23:59:59.997032\n"
     ]
    }
   ],
   "source": [
    "print('Rango fechas: ')\n",
    "print(str(auctions['date'].min()))\n",
    "print(str(auctions['date'].max()))"
   ]
  },
  {
   "cell_type": "code",
   "execution_count": 9,
   "metadata": {},
   "outputs": [],
   "source": [
    "auctions['day'] = auctions['date'].transform(lambda x : x.day)"
   ]
  },
  {
   "cell_type": "code",
   "execution_count": 10,
   "metadata": {},
   "outputs": [],
   "source": [
    "auctions['hour'] = auctions['date'].transform(lambda x : x.hour)"
   ]
  },
  {
   "cell_type": "code",
   "execution_count": 11,
   "metadata": {},
   "outputs": [
    {
     "data": {
      "text/plain": [
       "Text(0.5, 1.0, 'Correlacion audiciones')"
      ]
     },
     "execution_count": 11,
     "metadata": {},
     "output_type": "execute_result"
    },
    {
     "data": {
      "image/png": "[encoded data removed]",
      "text/plain": [
       "<Figure size 648x432 with 2 Axes>"
      ]
     },
     "metadata": {
      "needs_background": "light"
     },
     "output_type": "display_data"
    }
   ],
   "source": [
    "plt.figure(figsize=(9,6))\n",
    "sns.heatmap(auctions.drop('date', axis=1).corr(), annot=True).set_title('Correlacion audiciones', fontsize=18)"
   ]
  },
  {
   "cell_type": "code",
   "execution_count": 12,
   "metadata": {},
   "outputs": [
    {
     "data": {
      "image/png": "[encoded data removed]",
      "text/plain": [
       "<Figure size 1440x720 with 9 Axes>"
      ]
     },
     "metadata": {
      "needs_background": "light"
     },
     "output_type": "display_data"
    }
   ],
   "source": [
    "fig, ax = plt.subplots(nrows=3, ncols=3, figsize=(20,10))\n",
    "ax = ax.flatten()\n",
    "\n",
    "fig.suptitle(\"Cantidad de subastas para cada dia y hora\", fontsize=14)\n",
    "plt.subplots_adjust(wspace=0, hspace=0.25)\n",
    "\n",
    "diasDeLaSemana = ['LU', 'MA', 'MI', 'JU', 'VI', 'SA', 'DO']\n",
    "\n",
    "\"Para ref_type_id = 7\"\n",
    "for idx, gp in auctions.groupby('day'):\n",
    "    idx -= 5\n",
    "    ax[idx].set_title(str(diasDeLaSemana[gp['date'].iloc[0].dayofweek]) + ' ' + str(gp['day'].iloc[0]))\n",
    "    \n",
    "    g = gp.groupby(gp['hour']).size().rename_axis([None]).to_frame().reindex(np.arange(0,24,1))\\\n",
    "        .plot(kind='bar', ax=ax[idx], rot=0, legend=False, colormap='RdYlGn')\n",
    "    \n",
    "    if idx%3 != 0:\n",
    "        ax[idx].get_yaxis().set_visible(False)\n",
    "        \n",
    "        \n",
    "\"Para ref_type_id = 1\"\n",
    "for idx, gp in auctions[auctions['platform'] == 1].groupby('day'):\n",
    "    idx -= 5\n",
    "    \n",
    "    g = gp.groupby(gp['hour']).size().rename_axis([None]).to_frame().reindex(np.arange(0,24,1))\\\n",
    "        .plot(kind='bar', ax=ax[idx], rot=0, legend=False)\n",
    "    \n",
    "    if idx%3 != 0:\n",
    "        ax[idx].get_yaxis().set_visible(False)\n",
    "\n",
    "        \n",
    "lb, ub = list(zip(*[axis.get_ylim() for axis in ax]))\n",
    "for axis in ax:\n",
    "    axis.set_ylim(min(lb), max(ub))\n",
    "    \n",
    "plt.legend(labels=[2,1],title='Platform', bbox_to_anchor=(1.05, 1), loc=2, borderaxespad=0)\n",
    "    \n",
    "plt.show()"
   ]
  },
  {
   "cell_type": "code",
   "execution_count": 13,
   "metadata": {},
   "outputs": [
    {
     "data": {
      "text/plain": [
       "206977"
      ]
     },
     "execution_count": 13,
     "metadata": {},
     "output_type": "execute_result"
    }
   ],
   "source": [
    "auctionsUniqueIDs = auctions['device_id'].unique()\n",
    "len(auctionsUniqueIDs)"
   ]
  },
  {
   "cell_type": "code",
   "execution_count": 14,
   "metadata": {},
   "outputs": [
    {
     "data": {
      "text/plain": [
       "17119"
      ]
     },
     "execution_count": 14,
     "metadata": {},
     "output_type": "execute_result"
    }
   ],
   "source": [
    "clicksUniqueIDs = clicks['ref_hash'].unique()\n",
    "len(clicksUniqueIDs)"
   ]
  },
  {
   "cell_type": "code",
   "execution_count": 15,
   "metadata": {},
   "outputs": [
    {
     "data": {
      "text/plain": [
       "3008"
      ]
     },
     "execution_count": 15,
     "metadata": {},
     "output_type": "execute_result"
    }
   ],
   "source": [
    "installsUniqueIDs = installs['ref_hash'].unique()\n",
    "len(installsUniqueIDs)"
   ]
  },
  {
   "cell_type": "code",
   "execution_count": 16,
   "metadata": {},
   "outputs": [
    {
     "data": {
      "text/plain": [
       "16979"
      ]
     },
     "execution_count": 16,
     "metadata": {},
     "output_type": "execute_result"
    }
   ],
   "source": [
    "interAucCliIDs = np.intersect1d(auctionsUniqueIDs, clicksUniqueIDs)\n",
    "len(interAucCliIDs)"
   ]
  },
  {
   "cell_type": "code",
   "execution_count": 17,
   "metadata": {},
   "outputs": [
    {
     "data": {
      "text/plain": [
       "7"
      ]
     },
     "execution_count": 17,
     "metadata": {},
     "output_type": "execute_result"
    }
   ],
   "source": [
    "interAucCliInsIDs = np.intersect1d(interAucCliIDs, installsUniqueIDs)\n",
    "len(interAucCliInsIDs)"
   ]
  },
  {
   "cell_type": "code",
   "execution_count": 18,
   "metadata": {},
   "outputs": [
    {
     "data": {
      "image/png": "[encoded data removed]",
      "text/plain": [
       "<Figure size 432x288 with 1 Axes>"
      ]
     },
     "metadata": {
      "needs_background": "light"
     },
     "output_type": "display_data"
    }
   ],
   "source": [
    "sns.barplot(['subastas','subastas y clicks','subastas, clicks y installs'], [len(auctionsUniqueIDs),len(interAucCliIDs),len(interAucCliInsIDs)])\n",
    "plt.title('Intersección de IDs unicos')\n",
    "plt.xlabel('Datos usados')\n",
    "plt.ylabel('Cantidad de IDs (log)')\n",
    "plt.yscale('log')"
   ]
  },
  {
   "cell_type": "code",
   "execution_count": 19,
   "metadata": {},
   "outputs": [
    {
     "data": {
      "text/plain": [
       "False    3412\n",
       "Name: attributed, dtype: int64"
      ]
     },
     "execution_count": 19,
     "metadata": {},
     "output_type": "execute_result"
    }
   ],
   "source": [
    "installs['attributed'].value_counts()"
   ]
  },
  {
   "cell_type": "code",
   "execution_count": 20,
   "metadata": {},
   "outputs": [
    {
     "data": {
      "text/plain": [
       "False    6\n",
       "True     1\n",
       "Name: implicit, dtype: int64"
      ]
     },
     "execution_count": 20,
     "metadata": {},
     "output_type": "execute_result"
    }
   ],
   "source": [
    "installs[installs['ref_hash'].isin(interAucCliInsIDs)]['implicit'].value_counts()"
   ]
  },
  {
   "cell_type": "code",
   "execution_count": 21,
   "metadata": {},
   "outputs": [
    {
     "data": {
      "image/png": "[encoded data removed]",
      "text/plain": [
       "<Figure size 648x432 with 1 Axes>"
      ]
     },
     "metadata": {
      "needs_background": "light"
     },
     "output_type": "display_data"
    }
   ],
   "source": [
    "import matplotlib.pyplot as plt\n",
    "\n",
    "plt.rcParams[\"figure.figsize\"] = (9,6)\n",
    "\n",
    "s = auctions['device_id'].value_counts()\n",
    "sSoloEnAuctions = s[~s.index.isin(interAucCliIDs)]\n",
    "sInter = s[s.index.isin(interAucCliIDs)]\n",
    "plt.hist(sSoloEnAuctions, histtype='step')\n",
    "plt.hist(sInter, histtype='step')\n",
    "\n",
    "plt.title('Cantidad de dispositivos (log) segun la cantidad de subastas')\n",
    "plt.yscale('log')\n",
    "plt.xlabel('Cantidad de subastas')\n",
    "plt.ylabel('Cantidad de dispositivos')\n",
    "plt.legend(['No', 'Si'], title='Hizo click')\n",
    "plt.show()"
   ]
  },
  {
   "cell_type": "code",
   "execution_count": 22,
   "metadata": {},
   "outputs": [
    {
     "data": {
      "image/png": "[encoded data removed]",
      "text/plain": [
       "<Figure size 648x432 with 1 Axes>"
      ]
     },
     "metadata": {
      "needs_background": "light"
     },
     "output_type": "display_data"
    }
   ],
   "source": [
    "import matplotlib.pyplot as plt\n",
    "\n",
    "plt.rcParams[\"figure.figsize\"] = (9,6)\n",
    "\n",
    "s = auctions['device_id'].value_counts()\n",
    "s = s[s <= 100]\n",
    "sSoloEnAuctions = s[~s.index.isin(interAucCliIDs)]\n",
    "sInter = s[s.index.isin(interAucCliIDs)]\n",
    "plt.hist(sSoloEnAuctions, histtype='step')\n",
    "plt.hist(sInter, histtype='step')\n",
    "\n",
    "plt.title('Cantidad de dispositivos segun la cantidad de subastas (maximo 50)')\n",
    "plt.xlabel('Cantidad de subastas')\n",
    "plt.ylabel('Cantidad de dispositivos')\n",
    "plt.legend(['No', 'Si'], title='Hizo click')\n",
    "plt.show()"
   ]
  },
  {
   "cell_type": "code",
   "execution_count": 23,
   "metadata": {},
   "outputs": [
    {
     "name": "stderr",
     "output_type": "stream",
     "text": [
      "c:\\users\\ignacio\\appdata\\local\\programs\\python\\python37\\lib\\site-packages\\ipykernel_launcher.py:2: SettingWithCopyWarning: \n",
      "A value is trying to be set on a copy of a slice from a DataFrame.\n",
      "Try using .loc[row_indexer,col_indexer] = value instead\n",
      "\n",
      "See the caveats in the documentation: http://pandas.pydata.org/pandas-docs/stable/indexing.html#indexing-view-versus-copy\n",
      "  \n"
     ]
    },
    {
     "data": {
      "image/png": "[encoded data removed]",
      "text/plain": [
       "<Figure size 648x432 with 1 Axes>"
      ]
     },
     "metadata": {
      "needs_background": "light"
     },
     "output_type": "display_data"
    }
   ],
   "source": [
    "a = auctions.drop_duplicates('device_id')\n",
    "a['enClicks'] = a['device_id'].isin(interAucCliIDs)\n",
    "sns.countplot(x='enClicks', hue='platform', data=a)\n",
    "plt.title('Dispositivos en subastas')\n",
    "plt.xlabel('Realizo click')\n",
    "plt.ylabel('Cantidad de dispositivos');"
   ]
  },
  {
   "cell_type": "code",
   "execution_count": 24,
   "metadata": {},
   "outputs": [],
   "source": [
    "events['date'] = pd.to_datetime(events['date'])"
   ]
  },
  {
   "cell_type": "code",
   "execution_count": 25,
   "metadata": {},
   "outputs": [],
   "source": [
    "installs['date'] = pd.to_datetime(installs['created'])"
   ]
  },
  {
   "cell_type": "code",
   "execution_count": 26,
   "metadata": {},
   "outputs": [],
   "source": [
    "gruposInstalls = installs.groupby('ref_hash')['date']\n",
    "\n",
    "def enIntevaloDeInstall(row):\n",
    "    dispositivo = row['ref_hash']\n",
    "    dateEvent = row['date']\n",
    "    if dispositivo not in gruposInstalls.groups:\n",
    "        return False\n",
    "    datesInstallsDispositivo = gruposInstalls.get_group(dispositivo).values\n",
    "    for dateInstall in datesInstallsDispositivo:\n",
    "        rangoMenorDate = dateInstall - np.timedelta64(10,'m')\n",
    "        if rangoMenorDate <= np.datetime64(dateEvent) <= dateInstall:\n",
    "            return True\n",
    "    return False\n",
    "\n",
    "events['enIntervaloDeInstall'] = events.apply(enIntevaloDeInstall, axis=1)"
   ]
  },
  {
   "cell_type": "code",
   "execution_count": 27,
   "metadata": {},
   "outputs": [
    {
     "data": {
      "text/plain": [
       "22     696\n",
       "1      231\n",
       "31      89\n",
       "80      77\n",
       "513     40\n",
       "138     39\n",
       "161     34\n",
       "81      34\n",
       "153     26\n",
       "162     21\n",
       "171     17\n",
       "50       8\n",
       "164      7\n",
       "82       6\n",
       "96       5\n",
       "157      4\n",
       "36       4\n",
       "167      4\n",
       "98       4\n",
       "263      3\n",
       "265      2\n",
       "272      2\n",
       "27       2\n",
       "166      2\n",
       "188      2\n",
       "189      2\n",
       "247      1\n",
       "273      1\n",
       "335      1\n",
       "264      1\n",
       "121      1\n",
       "94       1\n",
       "101      1\n",
       "113      1\n",
       "246      1\n",
       "248      1\n",
       "400      1\n",
       "183      1\n",
       "266      1\n",
       "Name: event_id, dtype: int64"
      ]
     },
     "execution_count": 27,
     "metadata": {},
     "output_type": "execute_result"
    }
   ],
   "source": [
    "events[events['enIntervaloDeInstall'] == True]['event_id'].value_counts()"
   ]
  },
  {
   "cell_type": "code",
   "execution_count": 28,
   "metadata": {},
   "outputs": [
    {
     "data": {
      "text/plain": [
       "22     618228\n",
       "31     417070\n",
       "161    217846\n",
       "1      157812\n",
       "138    100039\n",
       "162     84898\n",
       "329     56490\n",
       "156     53332\n",
       "33      48581\n",
       "171     43942\n",
       "310     42101\n",
       "155     38465\n",
       "273     37056\n",
       "23      35588\n",
       "21      26228\n",
       "98      24301\n",
       "158     23738\n",
       "272     22788\n",
       "80      22076\n",
       "50      20905\n",
       "81      18622\n",
       "346     14408\n",
       "58      13940\n",
       "51      13455\n",
       "513     12682\n",
       "354     11711\n",
       "133     11074\n",
       "256     10939\n",
       "274     10035\n",
       "60       9456\n",
       "        ...  \n",
       "500         1\n",
       "511         1\n",
       "532         1\n",
       "516         1\n",
       "132         1\n",
       "520         1\n",
       "521         1\n",
       "523         1\n",
       "575         1\n",
       "577         1\n",
       "578         1\n",
       "579         1\n",
       "608         1\n",
       "433         1\n",
       "597         1\n",
       "436         1\n",
       "589         1\n",
       "588         1\n",
       "587         1\n",
       "586         1\n",
       "585         1\n",
       "140         1\n",
       "583         1\n",
       "581         1\n",
       "580         1\n",
       "437         1\n",
       "443         1\n",
       "227         1\n",
       "226         1\n",
       "584         1\n",
       "Name: event_id, Length: 568, dtype: int64"
      ]
     },
     "execution_count": 28,
     "metadata": {},
     "output_type": "execute_result"
    }
   ],
   "source": [
    "events['event_id'].value_counts()"
   ]
  },
  {
   "cell_type": "code",
   "execution_count": null,
   "metadata": {},
   "outputs": [],
   "source": []
  }
 ],
 "metadata": {
  "kernelspec": {
   "display_name": "Python 3",
   "language": "python",
   "name": "python3"
  },
  "language_info": {
   "codemirror_mode": {
    "name": "ipython",
    "version": 3
   },
   "file_extension": ".py",
   "mimetype": "text/x-python",
   "name": "python",
   "nbconvert_exporter": "python",
   "pygments_lexer": "ipython3",
   "version": "3.7.2"
  }
 },
 "nbformat": 4,
 "nbformat_minor": 2
}
