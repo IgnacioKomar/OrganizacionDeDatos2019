{
 "cells": [
  {
   "cell_type": "code",
   "execution_count": 4,
   "metadata": {},
   "outputs": [],
   "source": [
    "import pandas as pd\n",
    "import numpy as np\n",
    "import matplotlib.pyplot as plt"
   ]
  },
  {
   "cell_type": "code",
   "execution_count": 42,
   "metadata": {},
   "outputs": [],
   "source": [
    "#debido al tamaño de los csv, se realiza la especificación de tipos de datos para minimizar un poco el uso de la memoria\n",
    "dtypesEvents = {'ref_type':'category', 'event_id' : 'category', 'ref_hash': 'category', 'application_id':'category',\\\n",
    "                     'attributed':bool, 'device_os':'category', 'device_os_version':'category', 'device_brand':'category',\\\n",
    "                     'device_model':'category','device_city':'category', 'session_user_agent':'category', 'trans_id':\\\n",
    "                     'category', 'user_agent':'category','carrier':'category','kind':'category',\\\n",
    "                     'wifi':'category','connection_type':'category','ip_address':'category','device_language':'category',\\\n",
    "                     'device_countrycode':'category'}\n",
    "\n",
    "path = '/home/arnoldc/_workspaceOrgaDatos19/data/'\n",
    "\n",
    "events = pd.read_csv(path + 'events.csv', encoding='latin-1', low_memory=False, dtype=dtypesEvents)\n",
    "#clicks = pd.read_csv(path + 'clicks.csv', encoding='latin-1', low_memory=False)\n",
    "#installs = pd.read_csv(path + 'installs.csv', encoding='latin-1', low_memory=False)\n",
    "#auctions = pd.read_csv(path + 'auctions.csv', encoding='latin-1', low_memory=False)"
   ]
  },
  {
   "cell_type": "code",
   "execution_count": 43,
   "metadata": {},
   "outputs": [],
   "source": [
    "#pasamos a dateTime la columna de 'date'\n",
    "events['date'] = pd.to_datetime(events['date'])"
   ]
  },
  {
   "cell_type": "code",
   "execution_count": 44,
   "metadata": {},
   "outputs": [
    {
     "data": {
      "text/plain": [
       "date                  datetime64[ns]\n",
       "event_id                    category\n",
       "ref_type                    category\n",
       "ref_hash                    category\n",
       "application_id              category\n",
       "attributed                      bool\n",
       "device_countrycode          category\n",
       "device_os_version           category\n",
       "device_brand                category\n",
       "device_model                category\n",
       "device_city                 category\n",
       "session_user_agent          category\n",
       "trans_id                    category\n",
       "user_agent                  category\n",
       "event_uuid                    object\n",
       "carrier                     category\n",
       "kind                        category\n",
       "device_os                   category\n",
       "wifi                        category\n",
       "connection_type             category\n",
       "ip_address                  category\n",
       "device_language             category\n",
       "dtype: object"
      ]
     },
     "execution_count": 44,
     "metadata": {},
     "output_type": "execute_result"
    }
   ],
   "source": [
    "#Verificamos tipos\n",
    "\n",
    "#clicks.head(3)\n",
    "#installs.shape\n",
    "events.dtypes\n",
    "#events['event_uuid'].value_counts()\n",
    "#installs['event_uuid'].value_counts()"
   ]
  },
  {
   "cell_type": "code",
   "execution_count": 46,
   "metadata": {},
   "outputs": [
    {
     "data": {
      "text/html": [
       "<div>\n",
       "<style scoped>\n",
       "    .dataframe tbody tr th:only-of-type {\n",
       "        vertical-align: middle;\n",
       "    }\n",
       "\n",
       "    .dataframe tbody tr th {\n",
       "        vertical-align: top;\n",
       "    }\n",
       "\n",
       "    .dataframe thead th {\n",
       "        text-align: right;\n",
       "    }\n",
       "</style>\n",
       "<table border=\"1\" class=\"dataframe\">\n",
       "  <thead>\n",
       "    <tr style=\"text-align: right;\">\n",
       "      <th></th>\n",
       "      <th>date</th>\n",
       "      <th>event_id</th>\n",
       "      <th>ref_type</th>\n",
       "      <th>ref_hash</th>\n",
       "      <th>application_id</th>\n",
       "      <th>attributed</th>\n",
       "      <th>device_countrycode</th>\n",
       "      <th>device_os_version</th>\n",
       "      <th>device_brand</th>\n",
       "      <th>device_model</th>\n",
       "      <th>...</th>\n",
       "      <th>trans_id</th>\n",
       "      <th>user_agent</th>\n",
       "      <th>event_uuid</th>\n",
       "      <th>carrier</th>\n",
       "      <th>kind</th>\n",
       "      <th>device_os</th>\n",
       "      <th>wifi</th>\n",
       "      <th>connection_type</th>\n",
       "      <th>ip_address</th>\n",
       "      <th>device_language</th>\n",
       "    </tr>\n",
       "  </thead>\n",
       "  <tbody>\n",
       "    <tr>\n",
       "      <th>count</th>\n",
       "      <td>2494423</td>\n",
       "      <td>2494423</td>\n",
       "      <td>2494423</td>\n",
       "      <td>2494423</td>\n",
       "      <td>2494423</td>\n",
       "      <td>2494423</td>\n",
       "      <td>2494423</td>\n",
       "      <td>1022066</td>\n",
       "      <td>1164963</td>\n",
       "      <td>2406456</td>\n",
       "      <td>...</td>\n",
       "      <td>82</td>\n",
       "      <td>1391527</td>\n",
       "      <td>2489324</td>\n",
       "      <td>616434</td>\n",
       "      <td>2489324</td>\n",
       "      <td>657667</td>\n",
       "      <td>1378872</td>\n",
       "      <td>612463</td>\n",
       "      <td>2494423</td>\n",
       "      <td>2406604</td>\n",
       "    </tr>\n",
       "    <tr>\n",
       "      <th>unique</th>\n",
       "      <td>2488829</td>\n",
       "      <td>568</td>\n",
       "      <td>2</td>\n",
       "      <td>196049</td>\n",
       "      <td>269</td>\n",
       "      <td>2</td>\n",
       "      <td>1</td>\n",
       "      <td>81</td>\n",
       "      <td>250</td>\n",
       "      <td>2624</td>\n",
       "      <td>...</td>\n",
       "      <td>13</td>\n",
       "      <td>5111</td>\n",
       "      <td>2489324</td>\n",
       "      <td>84</td>\n",
       "      <td>583</td>\n",
       "      <td>4</td>\n",
       "      <td>2</td>\n",
       "      <td>3</td>\n",
       "      <td>285212</td>\n",
       "      <td>186</td>\n",
       "    </tr>\n",
       "    <tr>\n",
       "      <th>top</th>\n",
       "      <td>2019-03-12 14:36:58.017000</td>\n",
       "      <td>22</td>\n",
       "      <td>1891515180541284343</td>\n",
       "      <td>7823950631004872496</td>\n",
       "      <td>66</td>\n",
       "      <td>False</td>\n",
       "      <td>6333597102633388268</td>\n",
       "      <td>4.3537503246500966e+18</td>\n",
       "      <td>3.083058605577787e+17</td>\n",
       "      <td>2.33194661091417e+18</td>\n",
       "      <td>...</td>\n",
       "      <td>{hash}</td>\n",
       "      <td>2.394269162455642e+18</td>\n",
       "      <td>8d018ca7-2c4e-4761-9e6b-456c3ef6326c</td>\n",
       "      <td>2.2481569642543155e+17</td>\n",
       "      <td>5.500848327478996e+18</td>\n",
       "      <td>7.531669329342818e+18</td>\n",
       "      <td>true</td>\n",
       "      <td>Cable/DSL</td>\n",
       "      <td>1992632945768888579</td>\n",
       "      <td>6.977049253562486e+18</td>\n",
       "    </tr>\n",
       "    <tr>\n",
       "      <th>freq</th>\n",
       "      <td>3</td>\n",
       "      <td>618228</td>\n",
       "      <td>1882743</td>\n",
       "      <td>2913</td>\n",
       "      <td>325696</td>\n",
       "      <td>2489324</td>\n",
       "      <td>2494423</td>\n",
       "      <td>277691</td>\n",
       "      <td>579861</td>\n",
       "      <td>210697</td>\n",
       "      <td>...</td>\n",
       "      <td>33</td>\n",
       "      <td>42325</td>\n",
       "      <td>1</td>\n",
       "      <td>436983</td>\n",
       "      <td>618217</td>\n",
       "      <td>389811</td>\n",
       "      <td>930902</td>\n",
       "      <td>331948</td>\n",
       "      <td>22640</td>\n",
       "      <td>745898</td>\n",
       "    </tr>\n",
       "    <tr>\n",
       "      <th>first</th>\n",
       "      <td>2019-03-05 00:00:00.255000</td>\n",
       "      <td>NaN</td>\n",
       "      <td>NaN</td>\n",
       "      <td>NaN</td>\n",
       "      <td>NaN</td>\n",
       "      <td>NaN</td>\n",
       "      <td>NaN</td>\n",
       "      <td>NaN</td>\n",
       "      <td>NaN</td>\n",
       "      <td>NaN</td>\n",
       "      <td>...</td>\n",
       "      <td>NaN</td>\n",
       "      <td>NaN</td>\n",
       "      <td>NaN</td>\n",
       "      <td>NaN</td>\n",
       "      <td>NaN</td>\n",
       "      <td>NaN</td>\n",
       "      <td>NaN</td>\n",
       "      <td>NaN</td>\n",
       "      <td>NaN</td>\n",
       "      <td>NaN</td>\n",
       "    </tr>\n",
       "    <tr>\n",
       "      <th>last</th>\n",
       "      <td>2019-03-13 23:59:59.984000</td>\n",
       "      <td>NaN</td>\n",
       "      <td>NaN</td>\n",
       "      <td>NaN</td>\n",
       "      <td>NaN</td>\n",
       "      <td>NaN</td>\n",
       "      <td>NaN</td>\n",
       "      <td>NaN</td>\n",
       "      <td>NaN</td>\n",
       "      <td>NaN</td>\n",
       "      <td>...</td>\n",
       "      <td>NaN</td>\n",
       "      <td>NaN</td>\n",
       "      <td>NaN</td>\n",
       "      <td>NaN</td>\n",
       "      <td>NaN</td>\n",
       "      <td>NaN</td>\n",
       "      <td>NaN</td>\n",
       "      <td>NaN</td>\n",
       "      <td>NaN</td>\n",
       "      <td>NaN</td>\n",
       "    </tr>\n",
       "  </tbody>\n",
       "</table>\n",
       "<p>6 rows × 22 columns</p>\n",
       "</div>"
      ],
      "text/plain": [
       "                              date event_id             ref_type  \\\n",
       "count                      2494423  2494423              2494423   \n",
       "unique                     2488829      568                    2   \n",
       "top     2019-03-12 14:36:58.017000       22  1891515180541284343   \n",
       "freq                             3   618228              1882743   \n",
       "first   2019-03-05 00:00:00.255000      NaN                  NaN   \n",
       "last    2019-03-13 23:59:59.984000      NaN                  NaN   \n",
       "\n",
       "                   ref_hash application_id attributed   device_countrycode  \\\n",
       "count               2494423        2494423    2494423              2494423   \n",
       "unique               196049            269          2                    1   \n",
       "top     7823950631004872496             66      False  6333597102633388268   \n",
       "freq                   2913         325696    2489324              2494423   \n",
       "first                   NaN            NaN        NaN                  NaN   \n",
       "last                    NaN            NaN        NaN                  NaN   \n",
       "\n",
       "             device_os_version           device_brand          device_model  \\\n",
       "count                  1022066                1164963               2406456   \n",
       "unique                      81                    250                  2624   \n",
       "top     4.3537503246500966e+18  3.083058605577787e+17  2.33194661091417e+18   \n",
       "freq                    277691                 579861                210697   \n",
       "first                      NaN                    NaN                   NaN   \n",
       "last                       NaN                    NaN                   NaN   \n",
       "\n",
       "        ... trans_id             user_agent  \\\n",
       "count   ...       82                1391527   \n",
       "unique  ...       13                   5111   \n",
       "top     ...   {hash}  2.394269162455642e+18   \n",
       "freq    ...       33                  42325   \n",
       "first   ...      NaN                    NaN   \n",
       "last    ...      NaN                    NaN   \n",
       "\n",
       "                                  event_uuid                 carrier  \\\n",
       "count                                2489324                  616434   \n",
       "unique                               2489324                      84   \n",
       "top     8d018ca7-2c4e-4761-9e6b-456c3ef6326c  2.2481569642543155e+17   \n",
       "freq                                       1                  436983   \n",
       "first                                    NaN                     NaN   \n",
       "last                                     NaN                     NaN   \n",
       "\n",
       "                         kind              device_os     wifi connection_type  \\\n",
       "count                 2489324                 657667  1378872          612463   \n",
       "unique                    583                      4        2               3   \n",
       "top     5.500848327478996e+18  7.531669329342818e+18     true       Cable/DSL   \n",
       "freq                   618217                 389811   930902          331948   \n",
       "first                     NaN                    NaN      NaN             NaN   \n",
       "last                      NaN                    NaN      NaN             NaN   \n",
       "\n",
       "                 ip_address        device_language  \n",
       "count               2494423                2406604  \n",
       "unique               285212                    186  \n",
       "top     1992632945768888579  6.977049253562486e+18  \n",
       "freq                  22640                 745898  \n",
       "first                   NaN                    NaN  \n",
       "last                    NaN                    NaN  \n",
       "\n",
       "[6 rows x 22 columns]"
      ]
     },
     "execution_count": 46,
     "metadata": {},
     "output_type": "execute_result"
    }
   ],
   "source": [
    "events.describe(include='all')"
   ]
  },
  {
   "cell_type": "raw",
   "metadata": {},
   "source": [
    "Del 'describe' se observan:\n",
    "    * los eventos ocurren en el intervalo de tiempo [05/03/2019, 13/03/2019]\n",
    "    * los event_id se repiten bastante. Hay 568 distintos. Por lo que ese id no es un clave primaria sino que más bien corresponde a un tipo de evento\n",
    "    * ref_type hay dos. Tiene sentido ya que hace referencia si el evento ocurrió en un SO android o apple\n",
    "    * hay 269 aplicaciones distintas\n",
    "    * la mayoría de attributed son Falsos\n",
    "    * todos los eventos correspondes a un sólo país\n",
    "    * trans_id tiene muy pocos valores y en casi todo el set de datos son valores null. Por lo que no sería un dato relevante\n",
    "    * event_uuid no se repite. Por lo que sería éste candidato a ser clave primaria, en el sentido que cada event_uuid se corresponde con una unica row\n",
    "    * kind tiene un valor de repitición muy parecido a event_id\n",
    "    * 186 lenguajes de dispositivo distintos?\n",
    "    * ip_address se repite moderadamente, por lo que hay alguna concentración de eventos en las ip"
   ]
  },
  {
   "cell_type": "code",
   "execution_count": 48,
   "metadata": {},
   "outputs": [
    {
     "data": {
      "text/plain": [
       "2494341"
      ]
     },
     "execution_count": 48,
     "metadata": {},
     "output_type": "execute_result"
    }
   ],
   "source": [
    "#events['trans_id'].value_counts()\n",
    "events['trans_id'].isnull().sum()"
   ]
  },
  {
   "cell_type": "code",
   "execution_count": 29,
   "metadata": {},
   "outputs": [
    {
     "data": {
      "text/plain": [
       "Text(0.5, 1.0, 'topEvents')"
      ]
     },
     "execution_count": 29,
     "metadata": {},
     "output_type": "execute_result"
    },
    {
     "data": {
      "image/png": "[encoded data removed]",
      "text/plain": [
       "<Figure size 432x288 with 1 Axes>"
      ]
     },
     "metadata": {
      "needs_background": "light"
     },
     "output_type": "display_data"
    }
   ],
   "source": [
    "topEvents = events['event_id'].value_counts().head(10).sort_values()\n",
    "topEventsGr = topEvents.plot('barh')\n",
    "topEventsGr.set_xlabel('qty')\n",
    "topEventsGr.set_ylabel('event_id')\n",
    "topEventsGr.set_title('topEvents')\n",
    "#events.isnull().sum()\n",
    "#filter = events['event_id']==22\n",
    "#df = events.where(filter)"
   ]
  },
  {
   "cell_type": "code",
   "execution_count": 15,
   "metadata": {},
   "outputs": [
    {
     "data": {
      "text/html": [
       "<div>\n",
       "<style scoped>\n",
       "    .dataframe tbody tr th:only-of-type {\n",
       "        vertical-align: middle;\n",
       "    }\n",
       "\n",
       "    .dataframe tbody tr th {\n",
       "        vertical-align: top;\n",
       "    }\n",
       "\n",
       "    .dataframe thead th {\n",
       "        text-align: right;\n",
       "    }\n",
       "</style>\n",
       "<table border=\"1\" class=\"dataframe\">\n",
       "  <thead>\n",
       "    <tr style=\"text-align: right;\">\n",
       "      <th></th>\n",
       "      <th>date</th>\n",
       "      <th>event_id</th>\n",
       "      <th>ref_type</th>\n",
       "      <th>ref_hash</th>\n",
       "      <th>application_id</th>\n",
       "      <th>attributed</th>\n",
       "      <th>device_countrycode</th>\n",
       "      <th>device_os_version</th>\n",
       "      <th>device_brand</th>\n",
       "      <th>device_model</th>\n",
       "      <th>...</th>\n",
       "      <th>trans_id</th>\n",
       "      <th>user_agent</th>\n",
       "      <th>event_uuid</th>\n",
       "      <th>carrier</th>\n",
       "      <th>kind</th>\n",
       "      <th>device_os</th>\n",
       "      <th>wifi</th>\n",
       "      <th>connection_type</th>\n",
       "      <th>ip_address</th>\n",
       "      <th>device_language</th>\n",
       "    </tr>\n",
       "  </thead>\n",
       "  <tbody>\n",
       "    <tr>\n",
       "      <th>154</th>\n",
       "      <td>2019-03-08 18:19:40.353</td>\n",
       "      <td>22.0</td>\n",
       "      <td>1.494519e+18</td>\n",
       "      <td>6.848112e+18</td>\n",
       "      <td>41.0</td>\n",
       "      <td>0.0</td>\n",
       "      <td>6.333597e+18</td>\n",
       "      <td>NaN</td>\n",
       "      <td>NaN</td>\n",
       "      <td>2.331947e+18</td>\n",
       "      <td>...</td>\n",
       "      <td>NaN</td>\n",
       "      <td>5.513119e+18</td>\n",
       "      <td>0cc2ce7b-2246-47ff-a793-ca1535812a48</td>\n",
       "      <td>NaN</td>\n",
       "      <td>5.500848e+18</td>\n",
       "      <td>NaN</td>\n",
       "      <td>True</td>\n",
       "      <td>NaN</td>\n",
       "      <td>1.969110e+18</td>\n",
       "      <td>6.535228e+18</td>\n",
       "    </tr>\n",
       "    <tr>\n",
       "      <th>1814084</th>\n",
       "      <td>2019-03-09 14:24:22.617</td>\n",
       "      <td>22.0</td>\n",
       "      <td>1.891515e+18</td>\n",
       "      <td>1.331317e+18</td>\n",
       "      <td>10.0</td>\n",
       "      <td>0.0</td>\n",
       "      <td>6.333597e+18</td>\n",
       "      <td>NaN</td>\n",
       "      <td>2.523246e+18</td>\n",
       "      <td>2.082813e+17</td>\n",
       "      <td>...</td>\n",
       "      <td>NaN</td>\n",
       "      <td>5.087978e+18</td>\n",
       "      <td>d602c591-30ed-4961-944f-c059af51ec5d</td>\n",
       "      <td>NaN</td>\n",
       "      <td>5.500848e+18</td>\n",
       "      <td>NaN</td>\n",
       "      <td>True</td>\n",
       "      <td>NaN</td>\n",
       "      <td>3.222900e+18</td>\n",
       "      <td>9.028383e+18</td>\n",
       "    </tr>\n",
       "    <tr>\n",
       "      <th>1814085</th>\n",
       "      <td>2019-03-09 14:05:51.853</td>\n",
       "      <td>22.0</td>\n",
       "      <td>1.891515e+18</td>\n",
       "      <td>6.784815e+18</td>\n",
       "      <td>10.0</td>\n",
       "      <td>0.0</td>\n",
       "      <td>6.333597e+18</td>\n",
       "      <td>NaN</td>\n",
       "      <td>2.208835e+18</td>\n",
       "      <td>2.510073e+18</td>\n",
       "      <td>...</td>\n",
       "      <td>NaN</td>\n",
       "      <td>4.823695e+17</td>\n",
       "      <td>2f354832-8795-4115-93e8-011b732271c9</td>\n",
       "      <td>NaN</td>\n",
       "      <td>5.500848e+18</td>\n",
       "      <td>NaN</td>\n",
       "      <td>True</td>\n",
       "      <td>NaN</td>\n",
       "      <td>5.429319e+18</td>\n",
       "      <td>9.028383e+18</td>\n",
       "    </tr>\n",
       "    <tr>\n",
       "      <th>1814086</th>\n",
       "      <td>2019-03-09 14:16:30.448</td>\n",
       "      <td>22.0</td>\n",
       "      <td>1.891515e+18</td>\n",
       "      <td>1.759697e+18</td>\n",
       "      <td>10.0</td>\n",
       "      <td>0.0</td>\n",
       "      <td>6.333597e+18</td>\n",
       "      <td>NaN</td>\n",
       "      <td>3.083059e+17</td>\n",
       "      <td>1.148522e+18</td>\n",
       "      <td>...</td>\n",
       "      <td>NaN</td>\n",
       "      <td>2.392611e+18</td>\n",
       "      <td>e45753ac-ab60-4a9c-bbdb-03e67f4c6b5f</td>\n",
       "      <td>NaN</td>\n",
       "      <td>5.500848e+18</td>\n",
       "      <td>NaN</td>\n",
       "      <td>True</td>\n",
       "      <td>NaN</td>\n",
       "      <td>2.796719e+18</td>\n",
       "      <td>9.028383e+18</td>\n",
       "    </tr>\n",
       "    <tr>\n",
       "      <th>1814087</th>\n",
       "      <td>2019-03-09 14:44:40.555</td>\n",
       "      <td>22.0</td>\n",
       "      <td>1.891515e+18</td>\n",
       "      <td>2.657902e+18</td>\n",
       "      <td>10.0</td>\n",
       "      <td>0.0</td>\n",
       "      <td>6.333597e+18</td>\n",
       "      <td>NaN</td>\n",
       "      <td>2.208835e+18</td>\n",
       "      <td>7.313748e+18</td>\n",
       "      <td>...</td>\n",
       "      <td>NaN</td>\n",
       "      <td>6.775082e+18</td>\n",
       "      <td>a2255c51-565a-4b65-81da-1d11d1c4816d</td>\n",
       "      <td>NaN</td>\n",
       "      <td>5.500848e+18</td>\n",
       "      <td>NaN</td>\n",
       "      <td>True</td>\n",
       "      <td>NaN</td>\n",
       "      <td>8.262991e+18</td>\n",
       "      <td>9.028383e+18</td>\n",
       "    </tr>\n",
       "  </tbody>\n",
       "</table>\n",
       "<p>5 rows × 22 columns</p>\n",
       "</div>"
      ],
      "text/plain": [
       "                            date  event_id      ref_type      ref_hash  \\\n",
       "154      2019-03-08 18:19:40.353      22.0  1.494519e+18  6.848112e+18   \n",
       "1814084  2019-03-09 14:24:22.617      22.0  1.891515e+18  1.331317e+18   \n",
       "1814085  2019-03-09 14:05:51.853      22.0  1.891515e+18  6.784815e+18   \n",
       "1814086  2019-03-09 14:16:30.448      22.0  1.891515e+18  1.759697e+18   \n",
       "1814087  2019-03-09 14:44:40.555      22.0  1.891515e+18  2.657902e+18   \n",
       "\n",
       "         application_id  attributed  device_countrycode  device_os_version  \\\n",
       "154                41.0         0.0        6.333597e+18                NaN   \n",
       "1814084            10.0         0.0        6.333597e+18                NaN   \n",
       "1814085            10.0         0.0        6.333597e+18                NaN   \n",
       "1814086            10.0         0.0        6.333597e+18                NaN   \n",
       "1814087            10.0         0.0        6.333597e+18                NaN   \n",
       "\n",
       "         device_brand  device_model  ...  trans_id    user_agent  \\\n",
       "154               NaN  2.331947e+18  ...       NaN  5.513119e+18   \n",
       "1814084  2.523246e+18  2.082813e+17  ...       NaN  5.087978e+18   \n",
       "1814085  2.208835e+18  2.510073e+18  ...       NaN  4.823695e+17   \n",
       "1814086  3.083059e+17  1.148522e+18  ...       NaN  2.392611e+18   \n",
       "1814087  2.208835e+18  7.313748e+18  ...       NaN  6.775082e+18   \n",
       "\n",
       "                                   event_uuid  carrier          kind  \\\n",
       "154      0cc2ce7b-2246-47ff-a793-ca1535812a48      NaN  5.500848e+18   \n",
       "1814084  d602c591-30ed-4961-944f-c059af51ec5d      NaN  5.500848e+18   \n",
       "1814085  2f354832-8795-4115-93e8-011b732271c9      NaN  5.500848e+18   \n",
       "1814086  e45753ac-ab60-4a9c-bbdb-03e67f4c6b5f      NaN  5.500848e+18   \n",
       "1814087  a2255c51-565a-4b65-81da-1d11d1c4816d      NaN  5.500848e+18   \n",
       "\n",
       "         device_os  wifi  connection_type    ip_address device_language  \n",
       "154            NaN  True              NaN  1.969110e+18    6.535228e+18  \n",
       "1814084        NaN  True              NaN  3.222900e+18    9.028383e+18  \n",
       "1814085        NaN  True              NaN  5.429319e+18    9.028383e+18  \n",
       "1814086        NaN  True              NaN  2.796719e+18    9.028383e+18  \n",
       "1814087        NaN  True              NaN  8.262991e+18    9.028383e+18  \n",
       "\n",
       "[5 rows x 22 columns]"
      ]
     },
     "execution_count": 15,
     "metadata": {},
     "output_type": "execute_result"
    }
   ],
   "source": [
    "df.sort_values(by=['event_id']).head(5)"
   ]
  },
  {
   "cell_type": "code",
   "execution_count": 64,
   "metadata": {},
   "outputs": [
    {
     "data": {
      "text/plain": [
       "865"
      ]
     },
     "execution_count": 64,
     "metadata": {},
     "output_type": "execute_result"
    }
   ],
   "source": [
    "factor = 100/events.shape[0]\n",
    "events['event_id'].isnull().sum()*factor\n",
    "\n",
    "#null 2547\n",
    "#total 3412\n",
    "#no null 865"
   ]
  },
  {
   "cell_type": "code",
   "execution_count": null,
   "metadata": {},
   "outputs": [],
   "source": [
    "a = installs.dropna(subset=['event_uuid'])\n",
    "#b = events.dropna(subset=['event_uuid'])\n",
    "#installs.isnull().sum()\n",
    "#a.shape\n",
    "#installs.shape\n",
    "b = events.head(500000)\n",
    "merge = pd.merge(a, b, how='inner', on=['event_uuid'])"
   ]
  },
  {
   "cell_type": "code",
   "execution_count": 1,
   "metadata": {},
   "outputs": [
    {
     "ename": "NameError",
     "evalue": "name 'merge' is not defined",
     "output_type": "error",
     "traceback": [
      "\u001b[0;31m---------------------------------------------------------------------------\u001b[0m",
      "\u001b[0;31mNameError\u001b[0m                                 Traceback (most recent call last)",
      "\u001b[0;32m<ipython-input-1-2f0c3d2fdaf0>\u001b[0m in \u001b[0;36m<module>\u001b[0;34m\u001b[0m\n\u001b[1;32m      1\u001b[0m \u001b[0;31m#merge.loc[:,['event_uuid', 'event_id']]\u001b[0m\u001b[0;34m\u001b[0m\u001b[0;34m\u001b[0m\u001b[0m\n\u001b[0;32m----> 2\u001b[0;31m \u001b[0mmerge\u001b[0m\u001b[0;34m[\u001b[0m\u001b[0;34m'event_id'\u001b[0m\u001b[0;34m]\u001b[0m\u001b[0;34m.\u001b[0m\u001b[0mvalue_counts\u001b[0m\u001b[0;34m(\u001b[0m\u001b[0;34m)\u001b[0m\u001b[0;34m\u001b[0m\u001b[0m\n\u001b[0m\u001b[1;32m      3\u001b[0m \u001b[0;31m#merge.columns\u001b[0m\u001b[0;34m\u001b[0m\u001b[0;34m\u001b[0m\u001b[0m\n\u001b[1;32m      4\u001b[0m \u001b[0;31m#merge['event_uuid'].isnull().sum()\u001b[0m\u001b[0;34m\u001b[0m\u001b[0;34m\u001b[0m\u001b[0m\n\u001b[1;32m      5\u001b[0m \u001b[0;31m#stalls.shape\u001b[0m\u001b[0;34m\u001b[0m\u001b[0;34m\u001b[0m\u001b[0m\n",
      "\u001b[0;31mNameError\u001b[0m: name 'merge' is not defined"
     ]
    }
   ],
   "source": [
    "#merge.loc[:,['event_uuid', 'event_id']]\n",
    "merge['event_id'].value_counts()\n",
    "#merge.columns\n",
    "#merge['event_uuid'].isnull().sum()\n",
    "#stalls.shape\n",
    "#installs['event_uuid'].isnull().sum()\n",
    "#merge['event_uuid'].head(40)\n",
    "#b['event_uuid'].isnull().sum()"
   ]
  },
  {
   "cell_type": "code",
   "execution_count": null,
   "metadata": {},
   "outputs": [],
   "source": [
    "left = pd.DataFrame({'key1': ['K0', 'K1', 'K2', 'K3'],\n",
    "                         'A': ['A0', 'A1', 'A2', 'A3'],\n",
    "                         'B': ['B0', 'B1', 'B2', 'B3']})\n",
    "    \n",
    "\n",
    "right = pd.DataFrame({'key1': ['K2', 'K3', float('nan'), float('nan')],\n",
    "                          'C': ['C0', 'C1', 'C2', 'C3'],\n",
    "                          'D': ['D0', 'D1', 'D2', 'D3']})\n",
    "    \n",
    "\n",
    "result = pd.merge(left, right, how='inner', on=['key1'])\n",
    "\n",
    "result.head(10)"
   ]
  },
  {
   "cell_type": "code",
   "execution_count": 21,
   "metadata": {},
   "outputs": [
    {
     "data": {
      "text/plain": [
       "Index(['advertiser_id', 'action_id', 'source_id', 'created_x', 'country_code',\n",
       "       'latitude', 'longitude', 'wifi_connection', 'carrier_id', 'trans_id_x',\n",
       "       'os_minor', 'agent_device', 'os_major', 'specs_brand', 'brand',\n",
       "       'timeToClick', 'touchX', 'touchY', 'ref_type_x', 'ref_hash',\n",
       "       'created_y', 'application_id', 'ref_type_y', 'click_hash', 'attributed',\n",
       "       'implicit', 'device_countrycode', 'device_brand', 'device_model',\n",
       "       'session_user_agent', 'user_agent', 'event_uuid', 'kind', 'wifi',\n",
       "       'trans_id_y', 'ip_address', 'device_language'],\n",
       "      dtype='object')"
      ]
     },
     "execution_count": 21,
     "metadata": {},
     "output_type": "execute_result"
    }
   ],
   "source": [
    "merge.columns"
   ]
  },
  {
   "cell_type": "code",
   "execution_count": 31,
   "metadata": {},
   "outputs": [
    {
     "data": {
      "text/html": [
       "<div>\n",
       "<style scoped>\n",
       "    .dataframe tbody tr th:only-of-type {\n",
       "        vertical-align: middle;\n",
       "    }\n",
       "\n",
       "    .dataframe tbody tr th {\n",
       "        vertical-align: top;\n",
       "    }\n",
       "\n",
       "    .dataframe thead th {\n",
       "        text-align: right;\n",
       "    }\n",
       "</style>\n",
       "<table border=\"1\" class=\"dataframe\">\n",
       "  <thead>\n",
       "    <tr style=\"text-align: right;\">\n",
       "      <th></th>\n",
       "      <th>created_x</th>\n",
       "      <th>created_y</th>\n",
       "    </tr>\n",
       "  </thead>\n",
       "  <tbody>\n",
       "    <tr>\n",
       "      <th>0</th>\n",
       "      <td>2019-03-09T01:05:04.020Z</td>\n",
       "      <td>2019-03-06 10:27:43.604</td>\n",
       "    </tr>\n",
       "    <tr>\n",
       "      <th>1</th>\n",
       "      <td>2019-03-11T13:16:59.223Z</td>\n",
       "      <td>2019-03-08 14:10:39.335</td>\n",
       "    </tr>\n",
       "    <tr>\n",
       "      <th>2</th>\n",
       "      <td>2019-03-12T02:14:06.129Z</td>\n",
       "      <td>2019-03-08 14:10:39.335</td>\n",
       "    </tr>\n",
       "    <tr>\n",
       "      <th>3</th>\n",
       "      <td>2019-03-11T13:59:56.718Z</td>\n",
       "      <td>2019-03-06 03:30:01.796</td>\n",
       "    </tr>\n",
       "    <tr>\n",
       "      <th>4</th>\n",
       "      <td>2019-03-10T10:29:19.742Z</td>\n",
       "      <td>2019-03-10 08:30:15.346</td>\n",
       "    </tr>\n",
       "    <tr>\n",
       "      <th>5</th>\n",
       "      <td>2019-03-10T11:39:33.727Z</td>\n",
       "      <td>2019-03-08 00:30:02.714</td>\n",
       "    </tr>\n",
       "    <tr>\n",
       "      <th>6</th>\n",
       "      <td>2019-03-13T02:30:21.888Z</td>\n",
       "      <td>2019-03-11 09:38:31.388</td>\n",
       "    </tr>\n",
       "    <tr>\n",
       "      <th>7</th>\n",
       "      <td>2019-03-13T19:44:45.440Z</td>\n",
       "      <td>2019-03-06 21:33:40.647</td>\n",
       "    </tr>\n",
       "    <tr>\n",
       "      <th>8</th>\n",
       "      <td>2019-03-13T15:46:16.686Z</td>\n",
       "      <td>2019-03-06 21:33:40.647</td>\n",
       "    </tr>\n",
       "    <tr>\n",
       "      <th>9</th>\n",
       "      <td>2019-03-13T00:20:51.518Z</td>\n",
       "      <td>2019-03-06 21:33:40.647</td>\n",
       "    </tr>\n",
       "    <tr>\n",
       "      <th>10</th>\n",
       "      <td>2019-03-13T00:24:42.253Z</td>\n",
       "      <td>2019-03-06 21:33:40.647</td>\n",
       "    </tr>\n",
       "  </tbody>\n",
       "</table>\n",
       "</div>"
      ],
      "text/plain": [
       "                   created_x                created_y\n",
       "0   2019-03-09T01:05:04.020Z  2019-03-06 10:27:43.604\n",
       "1   2019-03-11T13:16:59.223Z  2019-03-08 14:10:39.335\n",
       "2   2019-03-12T02:14:06.129Z  2019-03-08 14:10:39.335\n",
       "3   2019-03-11T13:59:56.718Z  2019-03-06 03:30:01.796\n",
       "4   2019-03-10T10:29:19.742Z  2019-03-10 08:30:15.346\n",
       "5   2019-03-10T11:39:33.727Z  2019-03-08 00:30:02.714\n",
       "6   2019-03-13T02:30:21.888Z  2019-03-11 09:38:31.388\n",
       "7   2019-03-13T19:44:45.440Z  2019-03-06 21:33:40.647\n",
       "8   2019-03-13T15:46:16.686Z  2019-03-06 21:33:40.647\n",
       "9   2019-03-13T00:20:51.518Z  2019-03-06 21:33:40.647\n",
       "10  2019-03-13T00:24:42.253Z  2019-03-06 21:33:40.647"
      ]
     },
     "execution_count": 31,
     "metadata": {},
     "output_type": "execute_result"
    }
   ],
   "source": [
    "merge.loc[:,['created_x', 'created_y']]"
   ]
  },
  {
   "cell_type": "code",
   "execution_count": 41,
   "metadata": {},
   "outputs": [
    {
     "data": {
      "text/plain": [
       "Cable/DSL    331948\n",
       "Name: connection_type, dtype: int64"
      ]
     },
     "execution_count": 41,
     "metadata": {},
     "output_type": "execute_result"
    }
   ],
   "source": [
    "filter = events['connection_type']=='Cable/DSL'\n",
    "events_f = events.where(filter)"
   ]
  },
  {
   "cell_type": "code",
   "execution_count": 45,
   "metadata": {},
   "outputs": [
    {
     "data": {
      "text/plain": [
       "2494423"
      ]
     },
     "execution_count": 45,
     "metadata": {},
     "output_type": "execute_result"
    }
   ],
   "source": [
    "events_f['connection_type'].isnull().sum()+331948"
   ]
  },
  {
   "cell_type": "code",
   "execution_count": 46,
   "metadata": {},
   "outputs": [
    {
     "data": {
      "text/plain": [
       "2494423"
      ]
     },
     "execution_count": 46,
     "metadata": {},
     "output_type": "execute_result"
    }
   ],
   "source": [
    "events_f['wifi'].isnull().sum()"
   ]
  },
  {
   "cell_type": "code",
   "execution_count": 11,
   "metadata": {},
   "outputs": [
    {
     "data": {
      "text/plain": [
       "Text(0.5, 1.0, 'attributed')"
      ]
     },
     "execution_count": 11,
     "metadata": {},
     "output_type": "execute_result"
    },
    {
     "data": {
      "image/png": "[encoded data removed]",
      "text/plain": [
       "<Figure size 432x288 with 1 Axes>"
      ]
     },
     "metadata": {
      "needs_background": "light"
     },
     "output_type": "display_data"
    }
   ],
   "source": [
    "s = events['wifi'].value_counts().plot('bar')\n",
    "s.set_xlabel('y')\n",
    "s.set_ylabel('x')\n",
    "s.set_title('attributed')"
   ]
  },
  {
   "cell_type": "code",
   "execution_count": 63,
   "metadata": {},
   "outputs": [
    {
     "data": {
      "text/plain": [
       "99.8"
      ]
     },
     "execution_count": 63,
     "metadata": {},
     "output_type": "execute_result"
    }
   ],
   "source": [
    "someCol = events['attributed']\n",
    "percent = someCol.where(someCol == False).count()*factor\n",
    "round(percent,2)"
   ]
  }
 ],
 "metadata": {
  "kernelspec": {
   "display_name": "Python 3",
   "language": "python",
   "name": "python3"
  },
  "language_info": {
   "codemirror_mode": {
    "name": "ipython",
    "version": 3
   },
   "file_extension": ".py",
   "mimetype": "text/x-python",
   "name": "python",
   "nbconvert_exporter": "python",
   "pygments_lexer": "ipython3",
   "version": "3.5.3"
  }
 },
 "nbformat": 4,
 "nbformat_minor": 2
}
