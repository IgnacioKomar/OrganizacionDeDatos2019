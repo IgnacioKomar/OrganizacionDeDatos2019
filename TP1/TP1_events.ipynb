{
 "cells": [
  {
   "cell_type": "code",
   "execution_count": 4,
   "metadata": {},
   "outputs": [],
   "source": [
    "import pandas as pd\n",
    "import numpy as np\n",
    "import matplotlib.pyplot as plt"
   ]
  },
  {
   "cell_type": "code",
   "execution_count": 42,
   "metadata": {},
   "outputs": [],
   "source": [
    "#debido al tamaño de los csv, se realiza la especificación de tipos de datos para minimizar un poco el uso de la memoria\n",
    "dtypesEvents = {'ref_type':'category', 'event_id' : 'category', 'ref_hash': 'category', 'application_id':'category',\\\n",
    "                     'attributed':bool, 'device_os':'category', 'device_os_version':'category', 'device_brand':'category',\\\n",
    "                     'device_model':'category','device_city':'category', 'session_user_agent':'category', 'trans_id':\\\n",
    "                     'category', 'user_agent':'category','carrier':'category','kind':'category',\\\n",
    "                     'wifi':'category','connection_type':'category','ip_address':'category','device_language':'category',\\\n",
    "                     'device_countrycode':'category'}\n",
    "\n",
    "path = '/home/arnoldc/_workspaceOrgaDatos19/data/'\n",
    "\n",
    "events = pd.read_csv(path + 'events.csv', encoding='latin-1', low_memory=False, dtype=dtypesEvents)\n",
    "#clicks = pd.read_csv(path + 'clicks.csv', encoding='latin-1', low_memory=False)\n",
    "#installs = pd.read_csv(path + 'installs.csv', encoding='latin-1', low_memory=False)\n",
    "#auctions = pd.read_csv(path + 'auctions.csv', encoding='latin-1', low_memory=False)"
   ]
  },
  {
   "cell_type": "code",
   "execution_count": 43,
   "metadata": {},
   "outputs": [],
   "source": [
    "#pasamos a dateTime la columna de 'date'\n",
    "events['date'] = pd.to_datetime(events['date'])"
   ]
  },
  {
   "cell_type": "code",
   "execution_count": 44,
   "metadata": {},
   "outputs": [
    {
     "data": {
      "text/plain": [
       "date                  datetime64[ns]\n",
       "event_id                    category\n",
       "ref_type                    category\n",
       "ref_hash                    category\n",
       "application_id              category\n",
       "attributed                      bool\n",
       "device_countrycode          category\n",
       "device_os_version           category\n",
       "device_brand                category\n",
       "device_model                category\n",
       "device_city                 category\n",
       "session_user_agent          category\n",
       "trans_id                    category\n",
       "user_agent                  category\n",
       "event_uuid                    object\n",
       "carrier                     category\n",
       "kind                        category\n",
       "device_os                   category\n",
       "wifi                        category\n",
       "connection_type             category\n",
       "ip_address                  category\n",
       "device_language             category\n",
       "dtype: object"
      ]
     },
     "execution_count": 44,
     "metadata": {},
     "output_type": "execute_result"
    }
   ],
   "source": [
    "#Verificamos tipos\n",
    "\n",
    "events.dtypes"
   ]
  },
  {
   "cell_type": "code",
   "execution_count": 46,
   "metadata": {},
   "outputs": [
    {
     "data": {
      "text/html": [
       "<div>\n",
       "<style scoped>\n",
       "    .dataframe tbody tr th:only-of-type {\n",
       "        vertical-align: middle;\n",
       "    }\n",
       "\n",
       "    .dataframe tbody tr th {\n",
       "        vertical-align: top;\n",
       "    }\n",
       "\n",
       "    .dataframe thead th {\n",
       "        text-align: right;\n",
       "    }\n",
       "</style>\n",
       "<table border=\"1\" class=\"dataframe\">\n",
       "  <thead>\n",
       "    <tr style=\"text-align: right;\">\n",
       "      <th></th>\n",
       "      <th>date</th>\n",
       "      <th>event_id</th>\n",
       "      <th>ref_type</th>\n",
       "      <th>ref_hash</th>\n",
       "      <th>application_id</th>\n",
       "      <th>attributed</th>\n",
       "      <th>device_countrycode</th>\n",
       "      <th>device_os_version</th>\n",
       "      <th>device_brand</th>\n",
       "      <th>device_model</th>\n",
       "      <th>...</th>\n",
       "      <th>trans_id</th>\n",
       "      <th>user_agent</th>\n",
       "      <th>event_uuid</th>\n",
       "      <th>carrier</th>\n",
       "      <th>kind</th>\n",
       "      <th>device_os</th>\n",
       "      <th>wifi</th>\n",
       "      <th>connection_type</th>\n",
       "      <th>ip_address</th>\n",
       "      <th>device_language</th>\n",
       "    </tr>\n",
       "  </thead>\n",
       "  <tbody>\n",
       "    <tr>\n",
       "      <th>count</th>\n",
       "      <td>2494423</td>\n",
       "      <td>2494423</td>\n",
       "      <td>2494423</td>\n",
       "      <td>2494423</td>\n",
       "      <td>2494423</td>\n",
       "      <td>2494423</td>\n",
       "      <td>2494423</td>\n",
       "      <td>1022066</td>\n",
       "      <td>1164963</td>\n",
       "      <td>2406456</td>\n",
       "      <td>...</td>\n",
       "      <td>82</td>\n",
       "      <td>1391527</td>\n",
       "      <td>2489324</td>\n",
       "      <td>616434</td>\n",
       "      <td>2489324</td>\n",
       "      <td>657667</td>\n",
       "      <td>1378872</td>\n",
       "      <td>612463</td>\n",
       "      <td>2494423</td>\n",
       "      <td>2406604</td>\n",
       "    </tr>\n",
       "    <tr>\n",
       "      <th>unique</th>\n",
       "      <td>2488829</td>\n",
       "      <td>568</td>\n",
       "      <td>2</td>\n",
       "      <td>196049</td>\n",
       "      <td>269</td>\n",
       "      <td>2</td>\n",
       "      <td>1</td>\n",
       "      <td>81</td>\n",
       "      <td>250</td>\n",
       "      <td>2624</td>\n",
       "      <td>...</td>\n",
       "      <td>13</td>\n",
       "      <td>5111</td>\n",
       "      <td>2489324</td>\n",
       "      <td>84</td>\n",
       "      <td>583</td>\n",
       "      <td>4</td>\n",
       "      <td>2</td>\n",
       "      <td>3</td>\n",
       "      <td>285212</td>\n",
       "      <td>186</td>\n",
       "    </tr>\n",
       "    <tr>\n",
       "      <th>top</th>\n",
       "      <td>2019-03-12 14:36:58.017000</td>\n",
       "      <td>22</td>\n",
       "      <td>1891515180541284343</td>\n",
       "      <td>7823950631004872496</td>\n",
       "      <td>66</td>\n",
       "      <td>False</td>\n",
       "      <td>6333597102633388268</td>\n",
       "      <td>4.3537503246500966e+18</td>\n",
       "      <td>3.083058605577787e+17</td>\n",
       "      <td>2.33194661091417e+18</td>\n",
       "      <td>...</td>\n",
       "      <td>{hash}</td>\n",
       "      <td>2.394269162455642e+18</td>\n",
       "      <td>8d018ca7-2c4e-4761-9e6b-456c3ef6326c</td>\n",
       "      <td>2.2481569642543155e+17</td>\n",
       "      <td>5.500848327478996e+18</td>\n",
       "      <td>7.531669329342818e+18</td>\n",
       "      <td>true</td>\n",
       "      <td>Cable/DSL</td>\n",
       "      <td>1992632945768888579</td>\n",
       "      <td>6.977049253562486e+18</td>\n",
       "    </tr>\n",
       "    <tr>\n",
       "      <th>freq</th>\n",
       "      <td>3</td>\n",
       "      <td>618228</td>\n",
       "      <td>1882743</td>\n",
       "      <td>2913</td>\n",
       "      <td>325696</td>\n",
       "      <td>2489324</td>\n",
       "      <td>2494423</td>\n",
       "      <td>277691</td>\n",
       "      <td>579861</td>\n",
       "      <td>210697</td>\n",
       "      <td>...</td>\n",
       "      <td>33</td>\n",
       "      <td>42325</td>\n",
       "      <td>1</td>\n",
       "      <td>436983</td>\n",
       "      <td>618217</td>\n",
       "      <td>389811</td>\n",
       "      <td>930902</td>\n",
       "      <td>331948</td>\n",
       "      <td>22640</td>\n",
       "      <td>745898</td>\n",
       "    </tr>\n",
       "    <tr>\n",
       "      <th>first</th>\n",
       "      <td>2019-03-05 00:00:00.255000</td>\n",
       "      <td>NaN</td>\n",
       "      <td>NaN</td>\n",
       "      <td>NaN</td>\n",
       "      <td>NaN</td>\n",
       "      <td>NaN</td>\n",
       "      <td>NaN</td>\n",
       "      <td>NaN</td>\n",
       "      <td>NaN</td>\n",
       "      <td>NaN</td>\n",
       "      <td>...</td>\n",
       "      <td>NaN</td>\n",
       "      <td>NaN</td>\n",
       "      <td>NaN</td>\n",
       "      <td>NaN</td>\n",
       "      <td>NaN</td>\n",
       "      <td>NaN</td>\n",
       "      <td>NaN</td>\n",
       "      <td>NaN</td>\n",
       "      <td>NaN</td>\n",
       "      <td>NaN</td>\n",
       "    </tr>\n",
       "    <tr>\n",
       "      <th>last</th>\n",
       "      <td>2019-03-13 23:59:59.984000</td>\n",
       "      <td>NaN</td>\n",
       "      <td>NaN</td>\n",
       "      <td>NaN</td>\n",
       "      <td>NaN</td>\n",
       "      <td>NaN</td>\n",
       "      <td>NaN</td>\n",
       "      <td>NaN</td>\n",
       "      <td>NaN</td>\n",
       "      <td>NaN</td>\n",
       "      <td>...</td>\n",
       "      <td>NaN</td>\n",
       "      <td>NaN</td>\n",
       "      <td>NaN</td>\n",
       "      <td>NaN</td>\n",
       "      <td>NaN</td>\n",
       "      <td>NaN</td>\n",
       "      <td>NaN</td>\n",
       "      <td>NaN</td>\n",
       "      <td>NaN</td>\n",
       "      <td>NaN</td>\n",
       "    </tr>\n",
       "  </tbody>\n",
       "</table>\n",
       "<p>6 rows × 22 columns</p>\n",
       "</div>"
      ],
      "text/plain": [
       "                              date event_id             ref_type  \\\n",
       "count                      2494423  2494423              2494423   \n",
       "unique                     2488829      568                    2   \n",
       "top     2019-03-12 14:36:58.017000       22  1891515180541284343   \n",
       "freq                             3   618228              1882743   \n",
       "first   2019-03-05 00:00:00.255000      NaN                  NaN   \n",
       "last    2019-03-13 23:59:59.984000      NaN                  NaN   \n",
       "\n",
       "                   ref_hash application_id attributed   device_countrycode  \\\n",
       "count               2494423        2494423    2494423              2494423   \n",
       "unique               196049            269          2                    1   \n",
       "top     7823950631004872496             66      False  6333597102633388268   \n",
       "freq                   2913         325696    2489324              2494423   \n",
       "first                   NaN            NaN        NaN                  NaN   \n",
       "last                    NaN            NaN        NaN                  NaN   \n",
       "\n",
       "             device_os_version           device_brand          device_model  \\\n",
       "count                  1022066                1164963               2406456   \n",
       "unique                      81                    250                  2624   \n",
       "top     4.3537503246500966e+18  3.083058605577787e+17  2.33194661091417e+18   \n",
       "freq                    277691                 579861                210697   \n",
       "first                      NaN                    NaN                   NaN   \n",
       "last                       NaN                    NaN                   NaN   \n",
       "\n",
       "        ... trans_id             user_agent  \\\n",
       "count   ...       82                1391527   \n",
       "unique  ...       13                   5111   \n",
       "top     ...   {hash}  2.394269162455642e+18   \n",
       "freq    ...       33                  42325   \n",
       "first   ...      NaN                    NaN   \n",
       "last    ...      NaN                    NaN   \n",
       "\n",
       "                                  event_uuid                 carrier  \\\n",
       "count                                2489324                  616434   \n",
       "unique                               2489324                      84   \n",
       "top     8d018ca7-2c4e-4761-9e6b-456c3ef6326c  2.2481569642543155e+17   \n",
       "freq                                       1                  436983   \n",
       "first                                    NaN                     NaN   \n",
       "last                                     NaN                     NaN   \n",
       "\n",
       "                         kind              device_os     wifi connection_type  \\\n",
       "count                 2489324                 657667  1378872          612463   \n",
       "unique                    583                      4        2               3   \n",
       "top     5.500848327478996e+18  7.531669329342818e+18     true       Cable/DSL   \n",
       "freq                   618217                 389811   930902          331948   \n",
       "first                     NaN                    NaN      NaN             NaN   \n",
       "last                      NaN                    NaN      NaN             NaN   \n",
       "\n",
       "                 ip_address        device_language  \n",
       "count               2494423                2406604  \n",
       "unique               285212                    186  \n",
       "top     1992632945768888579  6.977049253562486e+18  \n",
       "freq                  22640                 745898  \n",
       "first                   NaN                    NaN  \n",
       "last                    NaN                    NaN  \n",
       "\n",
       "[6 rows x 22 columns]"
      ]
     },
     "execution_count": 46,
     "metadata": {},
     "output_type": "execute_result"
    }
   ],
   "source": [
    "events.describe(include='all')"
   ]
  },
  {
   "cell_type": "markdown",
   "metadata": {},
   "source": [
    "### Del 'describe' se observan:\n",
    "    * los eventos ocurren en el intervalo de tiempo [05/03/2019, 13/03/2019]\n",
    "    * los event_id se repiten bastante. Hay 568 distintos. Por lo que ese id no es un clave primaria sino que más bien corresponde a un tipo de evento\n",
    "    * ref_type hay dos. Tiene sentido ya que hace referencia si el evento ocurrió en un SO android o apple\n",
    "    * hay 269 aplicaciones distintas\n",
    "    * la mayoría de attributed son Falsos\n",
    "    * todos los eventos correspondes a un sólo país\n",
    "    * trans_id tiene muy pocos valores y en casi todo el set de datos son valores null. Por lo que no sería un dato relevante\n",
    "    * event_uuid no se repite. Por lo que sería éste candidato a ser clave primaria, en el sentido que cada event_uuid se corresponde con una unica row\n",
    "    * kind tiene un valor de repitición muy parecido a event_id\n",
    "    * 186 lenguajes de dispositivo distintos?\n",
    "    * ip_address se repite moderadamente, por lo que hay alguna concentración de eventos en las ip"
   ]
  },
  {
   "cell_type": "markdown",
   "metadata": {},
   "source": [
    "## Análisis 1\n",
    "Cantidad de conections con wifi "
   ]
  },
  {
   "cell_type": "code",
   "execution_count": 113,
   "metadata": {},
   "outputs": [
    {
     "data": {
      "text/plain": [
       "Text(0.5, 1.0, 'Wifi connections')"
      ]
     },
     "execution_count": 113,
     "metadata": {},
     "output_type": "execute_result"
    },
    {
     "data": {
      "image/png": "[encoded data removed]",
      "text/plain": [
       "<Figure size 432x288 with 1 Axes>"
      ]
     },
     "metadata": {
      "needs_background": "light"
     },
     "output_type": "display_data"
    }
   ],
   "source": [
    "wifiGr = events['wifi'].value_counts().plot('bar')\n",
    "wifiGr.set_ylabel('qty events')\n",
    "wifiGr.set_title('Wifi connections')"
   ]
  },
  {
   "cell_type": "markdown",
   "metadata": {},
   "source": [
    "## Análisis 2\n",
    "Tipos de conections con sus cantidades"
   ]
  },
  {
   "cell_type": "code",
   "execution_count": 114,
   "metadata": {},
   "outputs": [
    {
     "data": {
      "text/plain": [
       "Text(0.5, 1.0, 'connection types')"
      ]
     },
     "execution_count": 114,
     "metadata": {},
     "output_type": "execute_result"
    },
    {
     "data": {
      "image/png": "[encoded data removed]",
      "text/plain": [
       "<Figure size 432x288 with 1 Axes>"
      ]
     },
     "metadata": {
      "needs_background": "light"
     },
     "output_type": "display_data"
    }
   ],
   "source": [
    "typeConnGr = events['connection_type'].value_counts()[:10].plot('bar')\n",
    "typeConnGr.set_ylabel('qty events')\n",
    "typeConnGr.set_title('connection types')"
   ]
  },
  {
   "cell_type": "markdown",
   "metadata": {},
   "source": [
    "## Análisis 3\n",
    "Top 10 segun event_id"
   ]
  },
  {
   "cell_type": "code",
   "execution_count": 116,
   "metadata": {},
   "outputs": [
    {
     "data": {
      "text/plain": [
       "Text(0.5, 1.0, 'top Events')"
      ]
     },
     "execution_count": 116,
     "metadata": {},
     "output_type": "execute_result"
    },
    {
     "data": {
      "image/png": "[encoded data removed]",
      "text/plain": [
       "<Figure size 432x288 with 1 Axes>"
      ]
     },
     "metadata": {
      "needs_background": "light"
     },
     "output_type": "display_data"
    }
   ],
   "source": [
    "topEvents = events['event_id'].value_counts().head(10).sort_values()\n",
    "topEventsGr = topEvents.plot('barh')\n",
    "topEventsGr.set_xlabel('qty events')\n",
    "topEventsGr.set_ylabel('event_id')\n",
    "topEventsGr.set_title('top Events')"
   ]
  },
  {
   "cell_type": "markdown",
   "metadata": {},
   "source": [
    "## Análisis 4\n",
    "Top 10 de aplicaciones"
   ]
  },
  {
   "cell_type": "code",
   "execution_count": 90,
   "metadata": {},
   "outputs": [
    {
     "data": {
      "text/plain": [
       "Text(0.5, 1.0, 'top Apps')"
      ]
     },
     "execution_count": 90,
     "metadata": {},
     "output_type": "execute_result"
    },
    {
     "data": {
      "image/png": "[encoded data removed]",
      "text/plain": [
       "<Figure size 432x288 with 1 Axes>"
      ]
     },
     "metadata": {
      "needs_background": "light"
     },
     "output_type": "display_data"
    }
   ],
   "source": [
    "topApps = events['application_id'].value_counts().head(10)\n",
    "topAppsGr = topApps.plot('bar')\n",
    "topAppsGr.set_xlabel('application_id')\n",
    "topAppsGr.set_ylabel('qty events')\n",
    "topAppsGr.set_title('top Apps')"
   ]
  },
  {
   "cell_type": "markdown",
   "metadata": {},
   "source": [
    "## Análisis 5\n",
    "Comparación entre eventos originados de dispositivos google o apple"
   ]
  },
  {
   "cell_type": "code",
   "execution_count": 89,
   "metadata": {},
   "outputs": [
    {
     "data": {
      "text/plain": [
       "Text(0.5, 1.0, 'Comparison according to ref_type')"
      ]
     },
     "execution_count": 89,
     "metadata": {},
     "output_type": "execute_result"
    },
    {
     "data": {
      "image/png": "[encoded data removed]",
      "text/plain": [
       "<Figure size 432x288 with 1 Axes>"
      ]
     },
     "metadata": {},
     "output_type": "display_data"
    }
   ],
   "source": [
    "compareRefType = events['ref_type'].value_counts()\n",
    "compareRefTypeGr = compareRefType.plot('pie')\n",
    "compareRefTypeGr.set_title('Comparison according to ref_type')"
   ]
  },
  {
   "cell_type": "markdown",
   "metadata": {},
   "source": [
    "## Análisis 6\n",
    "Día de la semana con más cantidad de eventos"
   ]
  },
  {
   "cell_type": "code",
   "execution_count": 88,
   "metadata": {},
   "outputs": [
    {
     "data": {
      "text/plain": [
       "Text(0.5, 1.0, 'Day of the week with more events')"
      ]
     },
     "execution_count": 88,
     "metadata": {},
     "output_type": "execute_result"
    },
    {
     "data": {
      "image/png": "[encoded data removed]",
      "text/plain": [
       "<Figure size 432x288 with 1 Axes>"
      ]
     },
     "metadata": {
      "needs_background": "light"
     },
     "output_type": "display_data"
    }
   ],
   "source": [
    "dateEvents = events['date']\n",
    "daySeries = dateEvents.dt.day_name().value_counts()\n",
    "dateEventsGr = daySeries.plot('bar')\n",
    "dateEventsGr.set_xlabel('day of week')\n",
    "dateEventsGr.set_ylabel('qty events')\n",
    "dateEventsGr.set_title('Day of the week with more events')"
   ]
  },
  {
   "cell_type": "markdown",
   "metadata": {},
   "source": [
    "## Análisis 7\n",
    "Cantidad de eventos que le fueron atribuidos a Jampp"
   ]
  },
  {
   "cell_type": "code",
   "execution_count": 101,
   "metadata": {},
   "outputs": [
    {
     "data": {
      "text/plain": [
       "Text(0.5, 1.0, 'Events attributed to Jampp')"
      ]
     },
     "execution_count": 101,
     "metadata": {},
     "output_type": "execute_result"
    },
    {
     "data": {
      "image/png": "[encoded data removed]",
      "text/plain": [
       "<Figure size 432x288 with 1 Axes>"
      ]
     },
     "metadata": {},
     "output_type": "display_data"
    }
   ],
   "source": [
    "compareAttributed = events['attributed'].map(lambda x: \"toJampp\" if x else \"Other\").value_counts()\n",
    "compareAttributedGr = compareAttributed.plot('pie')\n",
    "compareAttributedGr.set_title('Events attributed to Jampp')"
   ]
  },
  {
   "cell_type": "markdown",
   "metadata": {},
   "source": [
    "# Análisis 8\n",
    "Cantidad de eventos por conexiones wifi"
   ]
  },
  {
   "cell_type": "code",
   "execution_count": 104,
   "metadata": {},
   "outputs": [
    {
     "data": {
      "text/plain": [
       "Text(0.5, 1.0, 'Cantidad de eventos por conexiones wifi')"
      ]
     },
     "execution_count": 104,
     "metadata": {},
     "output_type": "execute_result"
    },
    {
     "data": {
      "image/png": "[encoded data removed]",
      "text/plain": [
       "<Figure size 1008x288 with 1 Axes>"
      ]
     },
     "metadata": {
      "needs_background": "light"
     },
     "output_type": "display_data"
    }
   ],
   "source": [
    "plt = events.groupby('event_id').count()['wifi'].plot(figsize=(14,4));\n",
    "plt.set_xlabel('events_id')\n",
    "plt.set_ylabel('Cantidad de conexiones wifi')\n",
    "plt.set_title('Cantidad de eventos por conexiones wifi')"
   ]
  }
 ],
 "metadata": {
  "kernelspec": {
   "display_name": "Python 3",
   "language": "python",
   "name": "python3"
  },
  "language_info": {
   "codemirror_mode": {
    "name": "ipython",
    "version": 3
   },
   "file_extension": ".py",
   "mimetype": "text/x-python",
   "name": "python",
   "nbconvert_exporter": "python",
   "pygments_lexer": "ipython3",
   "version": "3.5.3"
  }
 },
 "nbformat": 4,
 "nbformat_minor": 2
}
